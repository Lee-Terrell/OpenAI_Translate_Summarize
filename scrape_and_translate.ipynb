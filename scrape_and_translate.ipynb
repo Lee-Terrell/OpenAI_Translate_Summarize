{
 "cells": [
  {
   "cell_type": "code",
   "execution_count": 1,
   "metadata": {},
   "outputs": [],
   "source": [
    "import requests\n",
    "import bs4"
   ]
  },
  {
   "cell_type": "code",
   "execution_count": 2,
   "metadata": {},
   "outputs": [],
   "source": [
    "country = input(\"What country are you interested in for news?\")"
   ]
  },
  {
   "cell_type": "code",
   "execution_count": 3,
   "metadata": {},
   "outputs": [
    {
     "data": {
      "text/plain": [
       "'France'"
      ]
     },
     "execution_count": 3,
     "metadata": {},
     "output_type": "execute_result"
    }
   ],
   "source": [
    "country"
   ]
  },
  {
   "cell_type": "code",
   "execution_count": 4,
   "metadata": {},
   "outputs": [],
   "source": [
    "country_news = {'Spain':'https://elpais.com/',\n",
    "                'France':'https://lemonde.fr/'}"
   ]
  },
  {
   "cell_type": "code",
   "execution_count": 5,
   "metadata": {},
   "outputs": [
    {
     "data": {
      "text/plain": [
       "'https://lemonde.fr/'"
      ]
     },
     "execution_count": 5,
     "metadata": {},
     "output_type": "execute_result"
    }
   ],
   "source": [
    "country_news[country]"
   ]
  },
  {
   "cell_type": "code",
   "execution_count": 6,
   "metadata": {},
   "outputs": [],
   "source": [
    "url = country_news[country]"
   ]
  },
  {
   "cell_type": "code",
   "execution_count": 7,
   "metadata": {},
   "outputs": [],
   "source": [
    "result= requests.get(url)"
   ]
  },
  {
   "cell_type": "code",
   "execution_count": 13,
   "metadata": {},
   "outputs": [],
   "source": [
    "tag = 'article__title'"
   ]
  },
  {
   "cell_type": "code",
   "execution_count": 14,
   "metadata": {},
   "outputs": [
    {
     "data": {
      "text/plain": [
       "[<p class=\"article__title\">Après la faillite de la Silicon Valley Bank, le spectre d’une nouvelle crise financière</p>,\n",
       " <p class=\"article__title\">Après la faillite de la Silicon Valley Bank, le « choc », la « terreur » puis le soulagement des start-up californiennes renflouées</p>,\n",
       " <p class=\"article__title\">« La question n’est plus celle de la liquidité, mais des taux d’intérêt qui font exploser le coût de la dette »</p>,\n",
       " <p class=\"article__title\">« Il y a urgence à élaborer une “taxonomie sociale” à l’échelle européenne »</p>,\n",
       " <p class=\"article__title\">Pourquoi les impôts sont sexistes</p>,\n",
       " <p class=\"article__title\">« Personne n’a écouté nos plaintes » : la colère gronde en Grèce après la collision mortelle de deux trains</p>,\n",
       " <p class=\"article__title\">« Il raconte n’importe quoi » : la star russe du rock Andreï Makarevitch attaque Vladimir Poutine dans un entretien vidéo au « Monde »</p>,\n",
       " <p class=\"article__title\">Pourquoi certains joueurs de basket, comme Victor Wembanyama, sont « trop » grands</p>,\n",
       " <p class=\"article__title\">Finances publiques : une dette maîtrisée est un outil de souveraineté</p>,\n",
       " <p class=\"article__title\">« Pour la première fois peut-être, des avocats et des adversaires du nucléaire tentent de préserver ce qui les rassemble »</p>,\n",
       " <p class=\"article__title\">« La Silicon Valley est le microcosme des excès du capitalisme »</p>,\n",
       " <p class=\"article__title\">« Le monde a plus que jamais besoin d’une prorogation de l’initiative céréalière de la mer Noire »</p>,\n",
       " <p class=\"article__title\">Oscars 2023 : les films d’horreur « sont moins nommés en comparaison avec les comédies et les drames, et surtout moins primés » aux cérémonies</p>,\n",
       " <p class=\"article__title\">Comment la romancière Claire Etcherelli avait su s’imposer avec son roman « Elise ou la vraie vie »</p>,\n",
       " <p class=\"article__title\">Patrick Pesnot, le journaliste et ancien producteur de l’émission « Rendez-vous avec X », est mort</p>,\n",
       " <p class=\"article__title\">Pauline Peyrade, une prose combat contre les violences faites aux femmes portée sur la scène</p>,\n",
       " <p class=\"article__title\">Falafels, beignets, boulettes : trois recettes pour un apéro végé sur canapé</p>,\n",
       " <p class=\"article__title\">A Paris, une « clinique » pour réparer les mailles écorchées</p>,\n",
       " <p class=\"article__title\">« Fried chicken », « hot wings », « chicken waffles », cette « nourriture de l’âme » venue du sud des Etats-Unis</p>,\n",
       " <p class=\"article__title\">L’activité physique, une thérapeutique dans la dépression de l’enfant et de l’adolescent</p>,\n",
       " <h1 class=\"article__title\"></h1>,\n",
       " <p class=\"article__title\">Un avion russe a percuté un drone américain en mer Noire, les Etats-Unis dénoncent un « acte irréfléchi »</p>,\n",
       " <p class=\"article__title\">La politique du « logement d’abord », destinée aux SDF, cherche un second souffle</p>,\n",
       " <p class=\"article__title\">Alliance Aukus : face à la Chine, l’Australie muscle ses capacités de dissuasion et de défense</p>,\n",
       " <p class=\"article__title\">Le « haut patronage », ce pouvoir discrétionnaire et méconnu du président de la République</p>,\n",
       " <p class=\"article__title\">Nos idées de séries : « Esterno notte », « Happy Valley », « Blackport » et « Ted Lasso »</p>,\n",
       " <p class=\"article__title article__title--inline\">Falafels, beignets, boulettes : trois recettes pour un apéro végé sur canapé</p>,\n",
       " <h3 class=\"article__title\">Les éboueurs en grève contre la réforme des retraites, les déchets s’accumulent à Paris et dans plusieurs villes de France</h3>,\n",
       " <h3 class=\"article__title\">Réforme des retraites : « Il est difficile d’imaginer que la colère ressentie par la population va s’apaiser »</h3>,\n",
       " <h3 class=\"article__title\">Emmanuel Macron sonne la « mobilisation » à 500 jours des JO 2024</h3>,\n",
       " <h3 class=\"article__title\">« Le monde a plus que jamais besoin d’une prorogation de l’initiative céréalière de la mer Noire »</h3>,\n",
       " <h3 class=\"article__title\">A Mayotte, des militants radicaux appellent le gouvernement à ne pas faiblir face à l’immigration</h3>,\n",
       " <h3 class=\"article__title\">Philippe Dubois, un détenu condamné pour assassinat, s’évade du centre de détention de Mauzac, en Dordogne</h3>,\n",
       " <h3 class=\"article__title\">Comment l’athlète américain Dick Fosbury a révolutionné le saut en hauteur</h3>,\n",
       " <h3 class=\"article__title\">Meta va supprimer 10 000 postes de plus</h3>,\n",
       " <h3 class=\"article__title\">Bébé-Crispr : la modification du génome d’embryon bute sur des obstacles techniques</h3>,\n",
       " <h3 class=\"article__title\">La volte-face allemande sur la fin du moteur thermique divise l’industrie</h3>,\n",
       " <h3 class=\"article__title\">Ventes d’armes : la France confirme son troisième rang mondial</h3>,\n",
       " <h3 class=\"article__title\">Pierre Palmade reste sous contrôle judiciaire avec interdiction de quitter l’hôpital</h3>,\n",
       " <p class=\"article__title article__title--inline\">« Nous refusons de combattre avec des armes automatiques contre des chars » : les appels à l’aide des mobilisés russes déployés en Ukraine</p>,\n",
       " <p class=\"article__title article__title--inline\">Après la faillite de la Silicon Valley Bank, le spectre d’une nouvelle crise financière</p>,\n",
       " <p class=\"article__title article__title--inline\">Le parti Les Républicains va-t-il voter la réforme des retraites ? Les députés font durer le suspense</p>,\n",
       " <p class=\"article__title\">Les nouvelles ambitions diplomatiques de la Chine au Moyen-Orient</p>,\n",
       " <p class=\"article__title\">« Trois mois de tensions, de déceptions, d’incompréhensions n’auront pas entamé les nerfs de la cheffe du gouvernement »</p>,\n",
       " <p class=\"article__title\">« Pour la première fois peut-être, des avocats et des adversaires du nucléaire tentent de préserver ce qui les rassemble »</p>,\n",
       " <p class=\"article__title\">Guerre en Ukraine : Kiev critique les conditions de Moscou pour le renouvellement de l’accord céréalier</p>,\n",
       " <p class=\"article__title\">« Cher Vladimir Poutine… » : les appels à l’aide des mobilisés russes déployés sur le front ukrainien</p>,\n",
       " <p class=\"article__title\">Guerre en Ukraine en direct : la Russie va réprimer la critique contre les groupes armés comme Wagner</p>,\n",
       " <p class=\"article__title\">Après la faillite de la Silicon Valley Bank, le spectre d’une nouvelle crise financière</p>,\n",
       " <p class=\"article__title\">Dick Fosbury, l’athlète américain qui a donné son nom à la technique de saut en hauteur, est mort</p>,\n",
       " <p class=\"article__title\">Avec l’alliance Aukus, les Etats-Unis, l’Australie et le Royaume-Uni veulent contrer les ambitions militaires de la Chine</p>,\n",
       " <p class=\"article__title\">La grève des éboueurs continue à Paris, les poubelles s’amoncellent et les oppositions s’aiguisent</p>,\n",
       " <p class=\"article__title\">Réforme des retraites : les députés Les Républicains font durer le suspense</p>,\n",
       " <p class=\"article__title\">Des primates et des outils : comment les singes bousculent l’archéologie</p>]"
      ]
     },
     "execution_count": 14,
     "metadata": {},
     "output_type": "execute_result"
    }
   ],
   "source": [
    "\n",
    "soup = bs4.BeautifulSoup(result.text,'lxml')\n",
    "soup.select(f'.{tag}')"
   ]
  },
  {
   "cell_type": "code",
   "execution_count": 15,
   "metadata": {},
   "outputs": [],
   "source": [
    "country_news = {'Spain':('https://elpais.com/','.c_t'),\n",
    "                'France':('https://lemonde.fr/','.article__title')}"
   ]
  },
  {
   "cell_type": "code",
   "execution_count": 16,
   "metadata": {},
   "outputs": [],
   "source": [
    "import os\n",
    "import openai"
   ]
  },
  {
   "cell_type": "code",
   "execution_count": 58,
   "metadata": {},
   "outputs": [],
   "source": [
    "def create_prompt():\n",
    "    \n",
    "    country = input(\"What country would you like a news summary for?\")\n",
    "    \n",
    "    try:\n",
    "        url,tag = country_news[country]\n",
    "    except:\n",
    "        print(\"Sorry, country not supported\")\n",
    "        return\n",
    "    \n",
    "    results = requests.get(url)\n",
    "    soup = bs4.BeautifulSoup(results.text,'lxml')\n",
    "    country_headlines = ''\n",
    "    for item in soup.select(tag)[:3]:\n",
    "        country_headlines += item.getText()+'\\n'\n",
    "    prompt = \"Translate and summarize the below headlines to English:\\n\"\n",
    "    return prompt+country_headlines"
   ]
  },
  {
   "cell_type": "code",
   "execution_count": 59,
   "metadata": {},
   "outputs": [],
   "source": [
    "prompt = create_prompt()"
   ]
  },
  {
   "cell_type": "code",
   "execution_count": 60,
   "metadata": {},
   "outputs": [
    {
     "name": "stdout",
     "output_type": "stream",
     "text": [
      "Translate and summarize the below headlines to English:\n",
      "El Departamento de Justicia de EE UU investiga las responsabilidades en la caída del Silicon Valley Bank\n",
      "El fantasma de otra crisis financiera recorre el mundo\n",
      "Meta anuncia 10.000 nuevos despidos y la cancelación de proyectos no prioritarios\n",
      "\n"
     ]
    }
   ],
   "source": [
    "print(prompt)"
   ]
  },
  {
   "cell_type": "code",
   "execution_count": 61,
   "metadata": {},
   "outputs": [],
   "source": [
    "response = openai.Completion.create(model='text-davinci-003',\n",
    "                                    prompt= prompt,\n",
    "                                    max_tokens=100,\n",
    "                                    temperature=0.1,\n",
    "                                    top_p=1.0)"
   ]
  },
  {
   "cell_type": "code",
   "execution_count": 62,
   "metadata": {},
   "outputs": [
    {
     "name": "stdout",
     "output_type": "stream",
     "text": [
      "\n",
      "The US Department of Justice is investigating who is responsible for the fall of Silicon Valley Bank. The specter of another financial crisis is haunting the world. Meta announces 10,000 new layoffs and the cancellation of non-priority projects.\n"
     ]
    }
   ],
   "source": [
    "print(response['choices'][0]['text'])"
   ]
  }
 ],
 "metadata": {
  "kernelspec": {
   "display_name": "obb",
   "language": "python",
   "name": "python3"
  },
  "language_info": {
   "codemirror_mode": {
    "name": "ipython",
    "version": 3
   },
   "file_extension": ".py",
   "mimetype": "text/x-python",
   "name": "python",
   "nbconvert_exporter": "python",
   "pygments_lexer": "ipython3",
   "version": "3.9.6"
  },
  "orig_nbformat": 4
 },
 "nbformat": 4,
 "nbformat_minor": 2
}
